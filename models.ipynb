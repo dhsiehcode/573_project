{
 "cells": [
  {
   "cell_type": "code",
   "execution_count": 129,
   "metadata": {},
   "outputs": [],
   "source": [
    "import numpy as np\n",
    "import pandas as pd\n",
    "\n",
    "from sklearn.linear_model import LinearRegression\n",
    "from sklearn.tree import DecisionTreeRegressor\n",
    "from sklearn.ensemble import RandomForestRegressor\n",
    "from sklearn.svm import LinearSVR\n",
    "from sklearn.neural_network import MLPRegressor\n",
    "from sklearn.metrics import mean_squared_error\n",
    "\n",
    "from sklearn.model_selection import train_test_split\n",
    "from sklearn.model_selection import cross_val_score\n",
    "import matplotlib.pyplot as plt\n",
    "\n",
    "\n"
   ]
  },
  {
   "cell_type": "code",
   "execution_count": 130,
   "metadata": {},
   "outputs": [],
   "source": [
    "df = pd.read_csv('processed.csv', index_col=0)\n",
    "\n",
    "df = df.sample(frac=1, random_state=1)\n",
    "\n",
    "X = df.drop(labels=['Price'], axis=1, inplace=False)\n",
    "y = df['Price']\n",
    "\n",
    "X_train, X_test, y_train, y_test = train_test_split(X, y, test_size=0.2, random_state=42)"
   ]
  },
  {
   "cell_type": "markdown",
   "metadata": {},
   "source": [
    "### Linear Regression"
   ]
  },
  {
   "cell_type": "code",
   "execution_count": 131,
   "metadata": {},
   "outputs": [],
   "source": [
    "lin_reg = LinearRegression()\n",
    "\n",
    "\n",
    "\n",
    "model = lin_reg.fit(X_train, y_train)\n",
    "\n",
    "train_cross_val = cross_val_score(lin_reg, X_train, y_train, cv=10, scoring='r2')\n"
   ]
  },
  {
   "cell_type": "code",
   "execution_count": 132,
   "metadata": {},
   "outputs": [
    {
     "name": "stdout",
     "output_type": "stream",
     "text": [
      "Test set R Squared 0.6138758676100822\n",
      "Test set Mean Squared Error: 0.20633639318812177\n"
     ]
    }
   ],
   "source": [
    "print(f'Test set R Squared {model.score(X_test, y_test)}')\n",
    "print(f'Test set Mean Squared Error: {mean_squared_error(y_test, model.predict(X_test))}')"
   ]
  },
  {
   "cell_type": "code",
   "execution_count": 133,
   "metadata": {},
   "outputs": [
    {
     "name": "stdout",
     "output_type": "stream",
     "text": [
      "Cross validation mean R Squared: 0.6300993680040909 Standard Deviation: 0.04538360053876054\n"
     ]
    }
   ],
   "source": [
    "print(f'Cross validation mean R Squared: {train_cross_val.mean()} Standard Deviation: {train_cross_val.std()}')"
   ]
  },
  {
   "cell_type": "markdown",
   "metadata": {},
   "source": [
    "### DT"
   ]
  },
  {
   "cell_type": "code",
   "execution_count": 134,
   "metadata": {},
   "outputs": [],
   "source": [
    "DT = DecisionTreeRegressor() ## since it seems the first 11 features capture good variance for PCA\n",
    "\n",
    "model = DT.fit(X_train, y_train)\n",
    "\n",
    "train_cross_val = cross_val_score(DT, X_train, y_train, cv=10, scoring='r2')\n"
   ]
  },
  {
   "cell_type": "code",
   "execution_count": 135,
   "metadata": {},
   "outputs": [
    {
     "name": "stdout",
     "output_type": "stream",
     "text": [
      "Test set R Squared 0.42393571643518857\n",
      "Test set Mean Squared Error: 0.30783630585210797\n"
     ]
    }
   ],
   "source": [
    "print(f'Test set R Squared {model.score(X_test, y_test)}')\n",
    "print(f'Test set Mean Squared Error: {mean_squared_error(y_test, model.predict(X_test))}')"
   ]
  },
  {
   "cell_type": "code",
   "execution_count": 136,
   "metadata": {},
   "outputs": [
    {
     "name": "stdout",
     "output_type": "stream",
     "text": [
      "Cross validation mean R Squared: 0.3990889404532899 Standard Deviation: 0.11019763267000438\n"
     ]
    }
   ],
   "source": [
    "print(f'Cross validation mean R Squared: {train_cross_val.mean()} Standard Deviation: {train_cross_val.std()}')"
   ]
  },
  {
   "cell_type": "code",
   "execution_count": 137,
   "metadata": {},
   "outputs": [],
   "source": [
    "DT.max_depth = 11\n",
    "\n",
    "model = DT.fit(X_train, y_train)\n",
    "\n",
    "train_cross_val = cross_val_score(DT, X_train, y_train, cv=10, scoring='r2')"
   ]
  },
  {
   "cell_type": "code",
   "execution_count": 138,
   "metadata": {},
   "outputs": [
    {
     "name": "stdout",
     "output_type": "stream",
     "text": [
      "Test set R Squared 0.5181405407709556\n",
      "Test set Mean Squared Error: 0.25749528325387816\n"
     ]
    }
   ],
   "source": [
    "print(f'Test set R Squared {model.score(X_test, y_test)}')\n",
    "print(f'Test set Mean Squared Error: {mean_squared_error(y_test, model.predict(X_test))}')"
   ]
  },
  {
   "cell_type": "code",
   "execution_count": 139,
   "metadata": {},
   "outputs": [
    {
     "name": "stdout",
     "output_type": "stream",
     "text": [
      "Cross validation mean R Squared: 0.4504852887333743 Standard Deviation: 0.0827610490448805\n"
     ]
    }
   ],
   "source": [
    "print(f'Cross validation mean R Squared: {train_cross_val.mean()} Standard Deviation: {train_cross_val.std()}')"
   ]
  },
  {
   "cell_type": "markdown",
   "metadata": {},
   "source": [
    "### Random Forest"
   ]
  },
  {
   "cell_type": "code",
   "execution_count": 140,
   "metadata": {},
   "outputs": [],
   "source": [
    "RF = RandomForestRegressor()\n",
    "\n",
    "model = RF.fit(X_train, y_train)\n",
    "\n",
    "train_cross_val = cross_val_score(RF, X_train, y_train, cv=10, scoring='r2')\n"
   ]
  },
  {
   "cell_type": "code",
   "execution_count": 141,
   "metadata": {},
   "outputs": [
    {
     "name": "stdout",
     "output_type": "stream",
     "text": [
      "Test set R Squared 0.6783368999844214\n",
      "Test set Mean Squared Error: 0.17188981032633738\n"
     ]
    }
   ],
   "source": [
    "print(f'Test set R Squared {model.score(X_test, y_test)}')\n",
    "print(f'Test set Mean Squared Error: {mean_squared_error(y_test, model.predict(X_test))}')"
   ]
  },
  {
   "cell_type": "code",
   "execution_count": 142,
   "metadata": {},
   "outputs": [
    {
     "name": "stdout",
     "output_type": "stream",
     "text": [
      "Cross validation mean R Squared: 0.6657367216736787 Standard Deviation: 0.07030130834636664\n"
     ]
    }
   ],
   "source": [
    "print(f'Cross validation mean R Squared: {train_cross_val.mean()} Standard Deviation: {train_cross_val.std()}')"
   ]
  },
  {
   "cell_type": "code",
   "execution_count": 143,
   "metadata": {},
   "outputs": [],
   "source": [
    "RF.max_depth = 11\n",
    "\n",
    "model = RF.fit(X_train, y_train)\n",
    "\n",
    "train_cross_val = cross_val_score(RF, X_train, y_train, cv=10, scoring='r2')"
   ]
  },
  {
   "cell_type": "code",
   "execution_count": 144,
   "metadata": {},
   "outputs": [
    {
     "name": "stdout",
     "output_type": "stream",
     "text": [
      "Test set R Squared 0.6823256272051472\n",
      "Test set Mean Squared Error: 0.16975832068583815\n"
     ]
    }
   ],
   "source": [
    "print(f'Test set R Squared {model.score(X_test, y_test)}')\n",
    "print(f'Test set Mean Squared Error: {mean_squared_error(y_test, model.predict(X_test))}')"
   ]
  },
  {
   "cell_type": "code",
   "execution_count": 145,
   "metadata": {},
   "outputs": [
    {
     "name": "stdout",
     "output_type": "stream",
     "text": [
      "Cross validation mean R Squared: 0.6714660933305339 Standard Deviation: 0.06378921686048301\n"
     ]
    }
   ],
   "source": [
    "print(f'Cross validation mean R Squared: {train_cross_val.mean()} Standard Deviation: {train_cross_val.std()}')"
   ]
  },
  {
   "cell_type": "markdown",
   "metadata": {},
   "source": [
    "### SVM"
   ]
  },
  {
   "cell_type": "code",
   "execution_count": 146,
   "metadata": {},
   "outputs": [
    {
     "name": "stderr",
     "output_type": "stream",
     "text": [
      "c:\\Users\\user\\.conda\\envs\\cs573\\lib\\site-packages\\sklearn\\svm\\_base.py:1235: ConvergenceWarning: Liblinear failed to converge, increase the number of iterations.\n",
      "  warnings.warn(\n",
      "c:\\Users\\user\\.conda\\envs\\cs573\\lib\\site-packages\\sklearn\\svm\\_base.py:1235: ConvergenceWarning: Liblinear failed to converge, increase the number of iterations.\n",
      "  warnings.warn(\n",
      "c:\\Users\\user\\.conda\\envs\\cs573\\lib\\site-packages\\sklearn\\svm\\_base.py:1235: ConvergenceWarning: Liblinear failed to converge, increase the number of iterations.\n",
      "  warnings.warn(\n",
      "c:\\Users\\user\\.conda\\envs\\cs573\\lib\\site-packages\\sklearn\\svm\\_base.py:1235: ConvergenceWarning: Liblinear failed to converge, increase the number of iterations.\n",
      "  warnings.warn(\n",
      "c:\\Users\\user\\.conda\\envs\\cs573\\lib\\site-packages\\sklearn\\svm\\_base.py:1235: ConvergenceWarning: Liblinear failed to converge, increase the number of iterations.\n",
      "  warnings.warn(\n",
      "c:\\Users\\user\\.conda\\envs\\cs573\\lib\\site-packages\\sklearn\\svm\\_base.py:1235: ConvergenceWarning: Liblinear failed to converge, increase the number of iterations.\n",
      "  warnings.warn(\n",
      "c:\\Users\\user\\.conda\\envs\\cs573\\lib\\site-packages\\sklearn\\svm\\_base.py:1235: ConvergenceWarning: Liblinear failed to converge, increase the number of iterations.\n",
      "  warnings.warn(\n",
      "c:\\Users\\user\\.conda\\envs\\cs573\\lib\\site-packages\\sklearn\\svm\\_base.py:1235: ConvergenceWarning: Liblinear failed to converge, increase the number of iterations.\n",
      "  warnings.warn(\n",
      "c:\\Users\\user\\.conda\\envs\\cs573\\lib\\site-packages\\sklearn\\svm\\_base.py:1235: ConvergenceWarning: Liblinear failed to converge, increase the number of iterations.\n",
      "  warnings.warn(\n",
      "c:\\Users\\user\\.conda\\envs\\cs573\\lib\\site-packages\\sklearn\\svm\\_base.py:1235: ConvergenceWarning: Liblinear failed to converge, increase the number of iterations.\n",
      "  warnings.warn(\n",
      "c:\\Users\\user\\.conda\\envs\\cs573\\lib\\site-packages\\sklearn\\svm\\_base.py:1235: ConvergenceWarning: Liblinear failed to converge, increase the number of iterations.\n",
      "  warnings.warn(\n"
     ]
    }
   ],
   "source": [
    "SVR = LinearSVR()\n",
    "\n",
    "model = SVR.fit(X_train, y_train)\n",
    "\n",
    "train_cross_val = cross_val_score(SVR, X_train, y_train, cv=10, scoring='r2')"
   ]
  },
  {
   "cell_type": "code",
   "execution_count": 147,
   "metadata": {},
   "outputs": [
    {
     "name": "stdout",
     "output_type": "stream",
     "text": [
      "Test set R Squared -2.7345099463461113\n",
      "Test set Mean Squared Error: 1.9956414220598016\n"
     ]
    }
   ],
   "source": [
    "print(f'Test set R Squared {model.score(X_test, y_test)}')\n",
    "print(f'Test set Mean Squared Error: {mean_squared_error(y_test, model.predict(X_test))}')"
   ]
  },
  {
   "cell_type": "code",
   "execution_count": 148,
   "metadata": {},
   "outputs": [
    {
     "name": "stdout",
     "output_type": "stream",
     "text": [
      "Cross validation mean R Squared: -2.249697484341862 Standard Deviation: 3.540826428769984\n"
     ]
    }
   ],
   "source": [
    "print(f'Cross validation mean R Squared: {train_cross_val.mean()} Standard Deviation: {train_cross_val.std()}')"
   ]
  },
  {
   "cell_type": "markdown",
   "metadata": {},
   "source": [
    "### MLP"
   ]
  },
  {
   "cell_type": "code",
   "execution_count": 149,
   "metadata": {},
   "outputs": [
    {
     "name": "stderr",
     "output_type": "stream",
     "text": [
      "c:\\Users\\user\\.conda\\envs\\cs573\\lib\\site-packages\\sklearn\\svm\\_base.py:1235: ConvergenceWarning: Liblinear failed to converge, increase the number of iterations.\n",
      "  warnings.warn(\n",
      "c:\\Users\\user\\.conda\\envs\\cs573\\lib\\site-packages\\sklearn\\neural_network\\_multilayer_perceptron.py:690: ConvergenceWarning: Stochastic Optimizer: Maximum iterations (200) reached and the optimization hasn't converged yet.\n",
      "  warnings.warn(\n",
      "c:\\Users\\user\\.conda\\envs\\cs573\\lib\\site-packages\\sklearn\\neural_network\\_multilayer_perceptron.py:690: ConvergenceWarning: Stochastic Optimizer: Maximum iterations (200) reached and the optimization hasn't converged yet.\n",
      "  warnings.warn(\n",
      "c:\\Users\\user\\.conda\\envs\\cs573\\lib\\site-packages\\sklearn\\neural_network\\_multilayer_perceptron.py:690: ConvergenceWarning: Stochastic Optimizer: Maximum iterations (200) reached and the optimization hasn't converged yet.\n",
      "  warnings.warn(\n",
      "c:\\Users\\user\\.conda\\envs\\cs573\\lib\\site-packages\\sklearn\\neural_network\\_multilayer_perceptron.py:690: ConvergenceWarning: Stochastic Optimizer: Maximum iterations (200) reached and the optimization hasn't converged yet.\n",
      "  warnings.warn(\n",
      "c:\\Users\\user\\.conda\\envs\\cs573\\lib\\site-packages\\sklearn\\neural_network\\_multilayer_perceptron.py:690: ConvergenceWarning: Stochastic Optimizer: Maximum iterations (200) reached and the optimization hasn't converged yet.\n",
      "  warnings.warn(\n",
      "c:\\Users\\user\\.conda\\envs\\cs573\\lib\\site-packages\\sklearn\\neural_network\\_multilayer_perceptron.py:690: ConvergenceWarning: Stochastic Optimizer: Maximum iterations (200) reached and the optimization hasn't converged yet.\n",
      "  warnings.warn(\n",
      "c:\\Users\\user\\.conda\\envs\\cs573\\lib\\site-packages\\sklearn\\neural_network\\_multilayer_perceptron.py:690: ConvergenceWarning: Stochastic Optimizer: Maximum iterations (200) reached and the optimization hasn't converged yet.\n",
      "  warnings.warn(\n",
      "c:\\Users\\user\\.conda\\envs\\cs573\\lib\\site-packages\\sklearn\\neural_network\\_multilayer_perceptron.py:690: ConvergenceWarning: Stochastic Optimizer: Maximum iterations (200) reached and the optimization hasn't converged yet.\n",
      "  warnings.warn(\n"
     ]
    }
   ],
   "source": [
    "MLP = MLPRegressor()\n",
    "\n",
    "model = SVR.fit(X_train, y_train)\n",
    "\n",
    "train_cross_val = cross_val_score(MLP, X_train, y_train, cv=10, scoring='r2')"
   ]
  },
  {
   "cell_type": "code",
   "execution_count": 150,
   "metadata": {},
   "outputs": [
    {
     "name": "stdout",
     "output_type": "stream",
     "text": [
      "Test set R Squared -10.629955426800402\n",
      "Test set Mean Squared Error: 6.214796886306391\n"
     ]
    }
   ],
   "source": [
    "print(f'Test set R Squared {model.score(X_test, y_test)}')\n",
    "print(f'Test set Mean Squared Error: {mean_squared_error(y_test, model.predict(X_test))}')"
   ]
  },
  {
   "cell_type": "code",
   "execution_count": 151,
   "metadata": {},
   "outputs": [
    {
     "name": "stdout",
     "output_type": "stream",
     "text": [
      "Cross validation mean R Squared: -6.9621960138002965 Standard Deviation: 4.121610416785178\n"
     ]
    }
   ],
   "source": [
    "print(f'Cross validation mean R Squared: {train_cross_val.mean()} Standard Deviation: {train_cross_val.std()}')"
   ]
  }
 ],
 "metadata": {
  "kernelspec": {
   "display_name": "cs573",
   "language": "python",
   "name": "python3"
  },
  "language_info": {
   "codemirror_mode": {
    "name": "ipython",
    "version": 3
   },
   "file_extension": ".py",
   "mimetype": "text/x-python",
   "name": "python",
   "nbconvert_exporter": "python",
   "pygments_lexer": "ipython3",
   "version": "3.9.20"
  }
 },
 "nbformat": 4,
 "nbformat_minor": 2
}
