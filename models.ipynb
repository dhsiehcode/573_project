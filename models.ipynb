{
 "cells": [
  {
   "cell_type": "code",
   "execution_count": 176,
   "metadata": {},
   "outputs": [],
   "source": [
    "import numpy as np\n",
    "import pandas as pd\n",
    "\n",
    "from sklearn.linear_model import LinearRegression\n",
    "from sklearn.tree import DecisionTreeRegressor\n",
    "from sklearn.ensemble import RandomForestRegressor\n",
    "from sklearn.svm import LinearSVR\n",
    "from sklearn.neural_network import MLPRegressor\n",
    "from sklearn.neighbors import KNeighborsRegressor\n",
    "from sklearn.metrics import mean_squared_error\n",
    "\n",
    "from sklearn.model_selection import train_test_split\n",
    "from sklearn.model_selection import cross_val_score\n",
    "import matplotlib.pyplot as plt\n",
    "\n",
    "\n"
   ]
  },
  {
   "cell_type": "code",
   "execution_count": 153,
   "metadata": {},
   "outputs": [],
   "source": [
    "df = pd.read_csv('processed.csv', index_col=0)\n",
    "\n",
    "df = df.sample(frac=1, random_state=1)\n",
    "\n",
    "X = df.drop(labels=['Price'], axis=1, inplace=False)\n",
    "y = df['Price']\n",
    "\n",
    "X_train, X_test, y_train, y_test = train_test_split(X, y, test_size=0.2, random_state=42)"
   ]
  },
  {
   "cell_type": "markdown",
   "metadata": {},
   "source": [
    "### Linear Regression"
   ]
  },
  {
   "cell_type": "code",
   "execution_count": 154,
   "metadata": {},
   "outputs": [],
   "source": [
    "lin_reg = LinearRegression()\n",
    "\n",
    "\n",
    "\n",
    "model = lin_reg.fit(X_train, y_train)\n",
    "\n",
    "train_cross_val = cross_val_score(lin_reg, X_train, y_train, cv=10, scoring='r2')\n"
   ]
  },
  {
   "cell_type": "code",
   "execution_count": 155,
   "metadata": {},
   "outputs": [
    {
     "name": "stdout",
     "output_type": "stream",
     "text": [
      "Test set R Squared 0.63896017311228\n",
      "Test set Mean Squared Error: 0.23894763008951134\n"
     ]
    }
   ],
   "source": [
    "print(f'Test set R Squared {model.score(X_test, y_test)}')\n",
    "print(f'Test set Mean Squared Error: {mean_squared_error(y_test, model.predict(X_test))}')"
   ]
  },
  {
   "cell_type": "code",
   "execution_count": 156,
   "metadata": {},
   "outputs": [
    {
     "name": "stdout",
     "output_type": "stream",
     "text": [
      "Cross validation mean R Squared: 0.6211271008675674 Standard Deviation: 0.0870258027178451\n"
     ]
    }
   ],
   "source": [
    "print(f'Cross validation mean R Squared: {train_cross_val.mean()} Standard Deviation: {train_cross_val.std()}')"
   ]
  },
  {
   "cell_type": "markdown",
   "metadata": {},
   "source": [
    "### DT"
   ]
  },
  {
   "cell_type": "code",
   "execution_count": 157,
   "metadata": {},
   "outputs": [],
   "source": [
    "DT = DecisionTreeRegressor() ## since it seems the first 11 features capture good variance for PCA\n",
    "\n",
    "model = DT.fit(X_train, y_train)\n",
    "\n",
    "train_cross_val = cross_val_score(DT, X_train, y_train, cv=10, scoring='r2')\n"
   ]
  },
  {
   "cell_type": "code",
   "execution_count": 158,
   "metadata": {},
   "outputs": [
    {
     "name": "stdout",
     "output_type": "stream",
     "text": [
      "Test set R Squared 0.4873187892286531\n",
      "Test set Mean Squared Error: 0.33930871660685835\n"
     ]
    }
   ],
   "source": [
    "print(f'Test set R Squared {model.score(X_test, y_test)}')\n",
    "print(f'Test set Mean Squared Error: {mean_squared_error(y_test, model.predict(X_test))}')"
   ]
  },
  {
   "cell_type": "code",
   "execution_count": 159,
   "metadata": {},
   "outputs": [
    {
     "name": "stdout",
     "output_type": "stream",
     "text": [
      "Cross validation mean R Squared: 0.4254033016323029 Standard Deviation: 0.13121943911950476\n"
     ]
    }
   ],
   "source": [
    "print(f'Cross validation mean R Squared: {train_cross_val.mean()} Standard Deviation: {train_cross_val.std()}')"
   ]
  },
  {
   "cell_type": "code",
   "execution_count": 160,
   "metadata": {},
   "outputs": [],
   "source": [
    "DT.max_depth = 11\n",
    "\n",
    "model = DT.fit(X_train, y_train)\n",
    "\n",
    "train_cross_val = cross_val_score(DT, X_train, y_train, cv=10, scoring='r2')"
   ]
  },
  {
   "cell_type": "code",
   "execution_count": 161,
   "metadata": {},
   "outputs": [
    {
     "name": "stdout",
     "output_type": "stream",
     "text": [
      "Test set R Squared 0.5424940041026036\n",
      "Test set Mean Squared Error: 0.302792006116882\n"
     ]
    }
   ],
   "source": [
    "print(f'Test set R Squared {model.score(X_test, y_test)}')\n",
    "print(f'Test set Mean Squared Error: {mean_squared_error(y_test, model.predict(X_test))}')"
   ]
  },
  {
   "cell_type": "code",
   "execution_count": 162,
   "metadata": {},
   "outputs": [
    {
     "name": "stdout",
     "output_type": "stream",
     "text": [
      "Cross validation mean R Squared: 0.5003286385600598 Standard Deviation: 0.13212748767728455\n"
     ]
    }
   ],
   "source": [
    "print(f'Cross validation mean R Squared: {train_cross_val.mean()} Standard Deviation: {train_cross_val.std()}')"
   ]
  },
  {
   "cell_type": "markdown",
   "metadata": {},
   "source": [
    "### Random Forest"
   ]
  },
  {
   "cell_type": "code",
   "execution_count": 163,
   "metadata": {},
   "outputs": [],
   "source": [
    "RF = RandomForestRegressor()\n",
    "\n",
    "model = RF.fit(X_train, y_train)\n",
    "\n",
    "train_cross_val = cross_val_score(RF, X_train, y_train, cv=10, scoring='r2')\n"
   ]
  },
  {
   "cell_type": "code",
   "execution_count": 164,
   "metadata": {},
   "outputs": [
    {
     "name": "stdout",
     "output_type": "stream",
     "text": [
      "Test set R Squared 0.6722963803471931\n",
      "Test set Mean Squared Error: 0.21688466882670163\n"
     ]
    }
   ],
   "source": [
    "print(f'Test set R Squared {model.score(X_test, y_test)}')\n",
    "print(f'Test set Mean Squared Error: {mean_squared_error(y_test, model.predict(X_test))}')"
   ]
  },
  {
   "cell_type": "code",
   "execution_count": 165,
   "metadata": {},
   "outputs": [
    {
     "name": "stdout",
     "output_type": "stream",
     "text": [
      "Cross validation mean R Squared: 0.679884465281173 Standard Deviation: 0.08498967257200474\n"
     ]
    }
   ],
   "source": [
    "print(f'Cross validation mean R Squared: {train_cross_val.mean()} Standard Deviation: {train_cross_val.std()}')"
   ]
  },
  {
   "cell_type": "code",
   "execution_count": 166,
   "metadata": {},
   "outputs": [],
   "source": [
    "RF.max_depth = 11\n",
    "\n",
    "model = RF.fit(X_train, y_train)\n",
    "\n",
    "train_cross_val = cross_val_score(RF, X_train, y_train, cv=10, scoring='r2')"
   ]
  },
  {
   "cell_type": "code",
   "execution_count": 167,
   "metadata": {},
   "outputs": [
    {
     "name": "stdout",
     "output_type": "stream",
     "text": [
      "Test set R Squared 0.6748929966521261\n",
      "Test set Mean Squared Error: 0.21516614564419273\n"
     ]
    }
   ],
   "source": [
    "print(f'Test set R Squared {model.score(X_test, y_test)}')\n",
    "print(f'Test set Mean Squared Error: {mean_squared_error(y_test, model.predict(X_test))}')"
   ]
  },
  {
   "cell_type": "code",
   "execution_count": 168,
   "metadata": {},
   "outputs": [
    {
     "name": "stdout",
     "output_type": "stream",
     "text": [
      "Cross validation mean R Squared: 0.6834603405120394 Standard Deviation: 0.08884841597807833\n"
     ]
    }
   ],
   "source": [
    "print(f'Cross validation mean R Squared: {train_cross_val.mean()} Standard Deviation: {train_cross_val.std()}')"
   ]
  },
  {
   "cell_type": "markdown",
   "metadata": {},
   "source": [
    "### SVM"
   ]
  },
  {
   "cell_type": "code",
   "execution_count": 169,
   "metadata": {},
   "outputs": [
    {
     "name": "stderr",
     "output_type": "stream",
     "text": [
      "c:\\Users\\user\\.conda\\envs\\cs573\\lib\\site-packages\\sklearn\\svm\\_base.py:1235: ConvergenceWarning: Liblinear failed to converge, increase the number of iterations.\n",
      "  warnings.warn(\n",
      "c:\\Users\\user\\.conda\\envs\\cs573\\lib\\site-packages\\sklearn\\svm\\_base.py:1235: ConvergenceWarning: Liblinear failed to converge, increase the number of iterations.\n",
      "  warnings.warn(\n",
      "c:\\Users\\user\\.conda\\envs\\cs573\\lib\\site-packages\\sklearn\\svm\\_base.py:1235: ConvergenceWarning: Liblinear failed to converge, increase the number of iterations.\n",
      "  warnings.warn(\n",
      "c:\\Users\\user\\.conda\\envs\\cs573\\lib\\site-packages\\sklearn\\svm\\_base.py:1235: ConvergenceWarning: Liblinear failed to converge, increase the number of iterations.\n",
      "  warnings.warn(\n",
      "c:\\Users\\user\\.conda\\envs\\cs573\\lib\\site-packages\\sklearn\\svm\\_base.py:1235: ConvergenceWarning: Liblinear failed to converge, increase the number of iterations.\n",
      "  warnings.warn(\n",
      "c:\\Users\\user\\.conda\\envs\\cs573\\lib\\site-packages\\sklearn\\svm\\_base.py:1235: ConvergenceWarning: Liblinear failed to converge, increase the number of iterations.\n",
      "  warnings.warn(\n",
      "c:\\Users\\user\\.conda\\envs\\cs573\\lib\\site-packages\\sklearn\\svm\\_base.py:1235: ConvergenceWarning: Liblinear failed to converge, increase the number of iterations.\n",
      "  warnings.warn(\n",
      "c:\\Users\\user\\.conda\\envs\\cs573\\lib\\site-packages\\sklearn\\svm\\_base.py:1235: ConvergenceWarning: Liblinear failed to converge, increase the number of iterations.\n",
      "  warnings.warn(\n",
      "c:\\Users\\user\\.conda\\envs\\cs573\\lib\\site-packages\\sklearn\\svm\\_base.py:1235: ConvergenceWarning: Liblinear failed to converge, increase the number of iterations.\n",
      "  warnings.warn(\n",
      "c:\\Users\\user\\.conda\\envs\\cs573\\lib\\site-packages\\sklearn\\svm\\_base.py:1235: ConvergenceWarning: Liblinear failed to converge, increase the number of iterations.\n",
      "  warnings.warn(\n",
      "c:\\Users\\user\\.conda\\envs\\cs573\\lib\\site-packages\\sklearn\\svm\\_base.py:1235: ConvergenceWarning: Liblinear failed to converge, increase the number of iterations.\n",
      "  warnings.warn(\n"
     ]
    }
   ],
   "source": [
    "SVR = LinearSVR()\n",
    "\n",
    "model = SVR.fit(X_train, y_train)\n",
    "\n",
    "train_cross_val = cross_val_score(SVR, X_train, y_train, cv=10, scoring='r2')"
   ]
  },
  {
   "cell_type": "code",
   "execution_count": 170,
   "metadata": {},
   "outputs": [
    {
     "name": "stdout",
     "output_type": "stream",
     "text": [
      "Test set R Squared -1.0155537408158684\n",
      "Test set Mean Squared Error: 1.3339575133238075\n"
     ]
    }
   ],
   "source": [
    "print(f'Test set R Squared {model.score(X_test, y_test)}')\n",
    "print(f'Test set Mean Squared Error: {mean_squared_error(y_test, model.predict(X_test))}')"
   ]
  },
  {
   "cell_type": "code",
   "execution_count": 171,
   "metadata": {},
   "outputs": [
    {
     "name": "stdout",
     "output_type": "stream",
     "text": [
      "Cross validation mean R Squared: -3.482247694000472 Standard Deviation: 7.478573581834738\n"
     ]
    }
   ],
   "source": [
    "print(f'Cross validation mean R Squared: {train_cross_val.mean()} Standard Deviation: {train_cross_val.std()}')"
   ]
  },
  {
   "cell_type": "markdown",
   "metadata": {},
   "source": [
    "### MLP"
   ]
  },
  {
   "cell_type": "code",
   "execution_count": 172,
   "metadata": {},
   "outputs": [
    {
     "name": "stderr",
     "output_type": "stream",
     "text": [
      "c:\\Users\\user\\.conda\\envs\\cs573\\lib\\site-packages\\sklearn\\svm\\_base.py:1235: ConvergenceWarning: Liblinear failed to converge, increase the number of iterations.\n",
      "  warnings.warn(\n",
      "c:\\Users\\user\\.conda\\envs\\cs573\\lib\\site-packages\\sklearn\\neural_network\\_multilayer_perceptron.py:690: ConvergenceWarning: Stochastic Optimizer: Maximum iterations (200) reached and the optimization hasn't converged yet.\n",
      "  warnings.warn(\n",
      "c:\\Users\\user\\.conda\\envs\\cs573\\lib\\site-packages\\sklearn\\neural_network\\_multilayer_perceptron.py:690: ConvergenceWarning: Stochastic Optimizer: Maximum iterations (200) reached and the optimization hasn't converged yet.\n",
      "  warnings.warn(\n",
      "c:\\Users\\user\\.conda\\envs\\cs573\\lib\\site-packages\\sklearn\\neural_network\\_multilayer_perceptron.py:690: ConvergenceWarning: Stochastic Optimizer: Maximum iterations (200) reached and the optimization hasn't converged yet.\n",
      "  warnings.warn(\n",
      "c:\\Users\\user\\.conda\\envs\\cs573\\lib\\site-packages\\sklearn\\neural_network\\_multilayer_perceptron.py:690: ConvergenceWarning: Stochastic Optimizer: Maximum iterations (200) reached and the optimization hasn't converged yet.\n",
      "  warnings.warn(\n",
      "c:\\Users\\user\\.conda\\envs\\cs573\\lib\\site-packages\\sklearn\\neural_network\\_multilayer_perceptron.py:690: ConvergenceWarning: Stochastic Optimizer: Maximum iterations (200) reached and the optimization hasn't converged yet.\n",
      "  warnings.warn(\n",
      "c:\\Users\\user\\.conda\\envs\\cs573\\lib\\site-packages\\sklearn\\neural_network\\_multilayer_perceptron.py:690: ConvergenceWarning: Stochastic Optimizer: Maximum iterations (200) reached and the optimization hasn't converged yet.\n",
      "  warnings.warn(\n"
     ]
    }
   ],
   "source": [
    "MLP = MLPRegressor()\n",
    "\n",
    "model = SVR.fit(X_train, y_train)\n",
    "\n",
    "train_cross_val = cross_val_score(MLP, X_train, y_train, cv=10, scoring='r2')"
   ]
  },
  {
   "cell_type": "code",
   "execution_count": 173,
   "metadata": {},
   "outputs": [
    {
     "name": "stdout",
     "output_type": "stream",
     "text": [
      "Test set R Squared -2.6529522374966588\n",
      "Test set Mean Squared Error: 2.4176398695522776\n"
     ]
    }
   ],
   "source": [
    "print(f'Test set R Squared {model.score(X_test, y_test)}')\n",
    "print(f'Test set Mean Squared Error: {mean_squared_error(y_test, model.predict(X_test))}')"
   ]
  },
  {
   "cell_type": "code",
   "execution_count": 174,
   "metadata": {},
   "outputs": [
    {
     "name": "stdout",
     "output_type": "stream",
     "text": [
      "Cross validation mean R Squared: -3.8603944251305427 Standard Deviation: 4.021420849804941\n"
     ]
    }
   ],
   "source": [
    "print(f'Cross validation mean R Squared: {train_cross_val.mean()} Standard Deviation: {train_cross_val.std()}')"
   ]
  },
  {
   "cell_type": "markdown",
   "metadata": {},
   "source": [
    "### KNN"
   ]
  },
  {
   "cell_type": "code",
   "execution_count": 177,
   "metadata": {},
   "outputs": [],
   "source": [
    "KNN = KNeighborsRegressor()\n",
    "\n",
    "model = KNN.fit(X_train, y_train)\n",
    "\n",
    "train_cross_val = cross_val_score(KNN, X_train, y_train, cv=10, scoring='r2')"
   ]
  },
  {
   "cell_type": "code",
   "execution_count": 178,
   "metadata": {},
   "outputs": [
    {
     "name": "stdout",
     "output_type": "stream",
     "text": [
      "Test set R Squared 0.5219831978116146\n",
      "Test set Mean Squared Error: 0.3163667094860509\n"
     ]
    }
   ],
   "source": [
    "print(f'Test set R Squared {model.score(X_test, y_test)}')\n",
    "print(f'Test set Mean Squared Error: {mean_squared_error(y_test, model.predict(X_test))}')"
   ]
  },
  {
   "cell_type": "code",
   "execution_count": 179,
   "metadata": {},
   "outputs": [
    {
     "name": "stdout",
     "output_type": "stream",
     "text": [
      "Cross validation mean R Squared: 0.48325795254395815 Standard Deviation: 0.09535544513121608\n"
     ]
    }
   ],
   "source": [
    "print(f'Cross validation mean R Squared: {train_cross_val.mean()} Standard Deviation: {train_cross_val.std()}')"
   ]
  }
 ],
 "metadata": {
  "kernelspec": {
   "display_name": "cs573",
   "language": "python",
   "name": "python3"
  },
  "language_info": {
   "codemirror_mode": {
    "name": "ipython",
    "version": 3
   },
   "file_extension": ".py",
   "mimetype": "text/x-python",
   "name": "python",
   "nbconvert_exporter": "python",
   "pygments_lexer": "ipython3",
   "version": "3.9.20"
  }
 },
 "nbformat": 4,
 "nbformat_minor": 2
}
